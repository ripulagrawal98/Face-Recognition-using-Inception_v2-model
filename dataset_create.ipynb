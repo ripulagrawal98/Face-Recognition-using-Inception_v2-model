{
 "cells": [
  {
   "cell_type": "code",
   "execution_count": 1,
   "metadata": {},
   "outputs": [],
   "source": [
    "import cv2\n",
    "import os\n",
    "import numpy as np"
   ]
  },
  {
   "cell_type": "code",
   "execution_count": 14,
   "metadata": {},
   "outputs": [],
   "source": [
    "cap=cv2.VideoCapture(0)\n",
    "facecascade=cv2.CascadeClassifier(\"C:/Users/Lenovo/Deep_learning/face_detection_final year/haarcascades/haarcascade_frontalface_alt.xml\")"
   ]
  },
  {
   "cell_type": "code",
   "execution_count": 15,
   "metadata": {},
   "outputs": [
    {
     "data": {
      "text/plain": [
       "True"
      ]
     },
     "execution_count": 15,
     "metadata": {},
     "output_type": "execute_result"
    }
   ],
   "source": [
    "cap.isOpened()"
   ]
  },
  {
   "cell_type": "code",
   "execution_count": 12,
   "metadata": {},
   "outputs": [],
   "source": [
    "training_data=[]\n",
    "if not os.path.exists('dataset'):\n",
    "    os.makedirs('dataset')\n",
    " ##now we read and display all images one by one"
   ]
  },
  {
   "cell_type": "code",
   "execution_count": 16,
   "metadata": {},
   "outputs": [],
   "source": [
    "sample=578\n",
    "#id=input('enter the user id')\n",
    "\n",
    "while(1):\n",
    "    ret,img=cap.read()\n",
    "    gray=cv2.cvtColor(img,cv2.COLOR_BGR2GRAY)\n",
    "\n",
    "    faces=facecascade.detectMultiScale(gray,scaleFactor=1.1,minNeighbors=5)\n",
    "    for (x,y,w,h) in faces:\n",
    "        sample+=1\n",
    "        cv2.rectangle(img,(x,y),(x+w,y+h),(0,255,255),3)\n",
    "        cv2.imwrite('dataset/'+str(sample)+'.jpg',img[y:y+h,x:x+w])\n",
    "    #if sample>:\n",
    "     #   break\n",
    "    cv2.imshow('image',img)\n",
    "    key=cv2.waitKey(1)           \n",
    "    if key==27:                                     # press esc key on keyboard to terminate\n",
    "        break\n",
    "    \n",
    "\n",
    "    \n",
    "cap.release()\n",
    "cv2.destroyAllWindows()\n"
   ]
  },
  {
   "cell_type": "code",
   "execution_count": null,
   "metadata": {},
   "outputs": [],
   "source": []
  }
 ],
 "metadata": {
  "kernelspec": {
   "display_name": "Python 3",
   "language": "python",
   "name": "python3"
  },
  "language_info": {
   "codemirror_mode": {
    "name": "ipython",
    "version": 3
   },
   "file_extension": ".py",
   "mimetype": "text/x-python",
   "name": "python",
   "nbconvert_exporter": "python",
   "pygments_lexer": "ipython3",
   "version": "3.6.8"
  }
 },
 "nbformat": 4,
 "nbformat_minor": 2
}
